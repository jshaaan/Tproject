{
 "cells": [
  {
   "cell_type": "code",
   "execution_count": 9,
   "id": "e40016ff",
   "metadata": {},
   "outputs": [],
   "source": [
    "import pandas as pd\n",
    "import numpy as np\n",
    "from sklearn.model_selection import train_test_split\n",
    "from sklearn.linear_model import LinearRegression,Lasso,BayesianRidge\n",
    "from sklearn import metrics\n"
   ]
  },
  {
   "cell_type": "code",
   "execution_count": 10,
   "id": "41bae0fd",
   "metadata": {},
   "outputs": [
    {
     "name": "stdout",
     "output_type": "stream",
     "text": [
      "(1338, 7)\n",
      "age           int64\n",
      "sex          object\n",
      "bmi         float64\n",
      "children      int64\n",
      "smoker       object\n",
      "region       object\n",
      "charges     float64\n",
      "dtype: object\n"
     ]
    },
    {
     "data": {
      "text/plain": [
       "<bound method NDFrame.head of       age     sex     bmi  children smoker     region      charges\n",
       "0      19  female  27.900         0    yes  southwest  16884.92400\n",
       "1      18    male  33.770         1     no  southeast   1725.55230\n",
       "2      28    male  33.000         3     no  southeast   4449.46200\n",
       "3      33    male  22.705         0     no  northwest  21984.47061\n",
       "4      32    male  28.880         0     no  northwest   3866.85520\n",
       "...   ...     ...     ...       ...    ...        ...          ...\n",
       "1333   50    male  30.970         3     no  northwest  10600.54830\n",
       "1334   18  female  31.920         0     no  northeast   2205.98080\n",
       "1335   18  female  36.850         0     no  southeast   1629.83350\n",
       "1336   21  female  25.800         0     no  southwest   2007.94500\n",
       "1337   61  female  29.070         0    yes  northwest  29141.36030\n",
       "\n",
       "[1338 rows x 7 columns]>"
      ]
     },
     "execution_count": 10,
     "metadata": {},
     "output_type": "execute_result"
    }
   ],
   "source": [
    "df=pd.read_csv('D:/datasets/Py_DS/insurance.csv')\n",
    "print(df.shape)\n",
    "print(df.dtypes)\n",
    "df.head"
   ]
  },
  {
   "cell_type": "code",
   "execution_count": 11,
   "id": "5573164d",
   "metadata": {},
   "outputs": [
    {
     "data": {
      "text/plain": [
       "age         0\n",
       "sex         0\n",
       "bmi         0\n",
       "children    0\n",
       "smoker      0\n",
       "region      0\n",
       "charges     0\n",
       "dtype: int64"
      ]
     },
     "execution_count": 11,
     "metadata": {},
     "output_type": "execute_result"
    }
   ],
   "source": [
    "df.isnull().sum()"
   ]
  },
  {
   "cell_type": "code",
   "execution_count": 12,
   "id": "b123ec6b",
   "metadata": {},
   "outputs": [
    {
     "name": "stdout",
     "output_type": "stream",
     "text": [
      "<class 'pandas.core.frame.DataFrame'>\n",
      "RangeIndex: 1338 entries, 0 to 1337\n",
      "Data columns (total 7 columns):\n",
      " #   Column    Non-Null Count  Dtype  \n",
      "---  ------    --------------  -----  \n",
      " 0   age       1338 non-null   int64  \n",
      " 1   sex       1338 non-null   object \n",
      " 2   bmi       1338 non-null   float64\n",
      " 3   children  1338 non-null   int64  \n",
      " 4   smoker    1338 non-null   object \n",
      " 5   region    1338 non-null   object \n",
      " 6   charges   1338 non-null   float64\n",
      "dtypes: float64(2), int64(2), object(3)\n",
      "memory usage: 73.3+ KB\n"
     ]
    }
   ],
   "source": [
    "df.info()"
   ]
  },
  {
   "cell_type": "code",
   "execution_count": 13,
   "id": "500796c1",
   "metadata": {},
   "outputs": [
    {
     "data": {
      "text/plain": [
       "male      676\n",
       "female    662\n",
       "Name: sex, dtype: int64"
      ]
     },
     "execution_count": 13,
     "metadata": {},
     "output_type": "execute_result"
    }
   ],
   "source": [
    "df['sex'].value_counts()"
   ]
  },
  {
   "cell_type": "code",
   "execution_count": 14,
   "id": "e220157c",
   "metadata": {},
   "outputs": [
    {
     "data": {
      "text/plain": [
       "no     1064\n",
       "yes     274\n",
       "Name: smoker, dtype: int64"
      ]
     },
     "execution_count": 14,
     "metadata": {},
     "output_type": "execute_result"
    }
   ],
   "source": [
    "df['smoker'].value_counts()"
   ]
  },
  {
   "cell_type": "code",
   "execution_count": 15,
   "id": "08fe670b",
   "metadata": {},
   "outputs": [
    {
     "data": {
      "text/plain": [
       "southeast    364\n",
       "southwest    325\n",
       "northwest    325\n",
       "northeast    324\n",
       "Name: region, dtype: int64"
      ]
     },
     "execution_count": 15,
     "metadata": {},
     "output_type": "execute_result"
    }
   ],
   "source": [
    "df['region'].value_counts()"
   ]
  },
  {
   "cell_type": "code",
   "execution_count": 16,
   "id": "b6f748e3",
   "metadata": {},
   "outputs": [
    {
     "data": {
      "text/html": [
       "<div>\n",
       "<style scoped>\n",
       "    .dataframe tbody tr th:only-of-type {\n",
       "        vertical-align: middle;\n",
       "    }\n",
       "\n",
       "    .dataframe tbody tr th {\n",
       "        vertical-align: top;\n",
       "    }\n",
       "\n",
       "    .dataframe thead th {\n",
       "        text-align: right;\n",
       "    }\n",
       "</style>\n",
       "<table border=\"1\" class=\"dataframe\">\n",
       "  <thead>\n",
       "    <tr style=\"text-align: right;\">\n",
       "      <th></th>\n",
       "      <th>age</th>\n",
       "      <th>sex</th>\n",
       "      <th>bmi</th>\n",
       "      <th>children</th>\n",
       "      <th>smoker</th>\n",
       "      <th>region</th>\n",
       "      <th>charges</th>\n",
       "    </tr>\n",
       "  </thead>\n",
       "  <tbody>\n",
       "    <tr>\n",
       "      <th>0</th>\n",
       "      <td>19</td>\n",
       "      <td>1</td>\n",
       "      <td>27.900</td>\n",
       "      <td>0</td>\n",
       "      <td>1</td>\n",
       "      <td>2</td>\n",
       "      <td>16884.92400</td>\n",
       "    </tr>\n",
       "    <tr>\n",
       "      <th>1</th>\n",
       "      <td>18</td>\n",
       "      <td>0</td>\n",
       "      <td>33.770</td>\n",
       "      <td>1</td>\n",
       "      <td>0</td>\n",
       "      <td>0</td>\n",
       "      <td>1725.55230</td>\n",
       "    </tr>\n",
       "    <tr>\n",
       "      <th>2</th>\n",
       "      <td>28</td>\n",
       "      <td>0</td>\n",
       "      <td>33.000</td>\n",
       "      <td>3</td>\n",
       "      <td>0</td>\n",
       "      <td>0</td>\n",
       "      <td>4449.46200</td>\n",
       "    </tr>\n",
       "    <tr>\n",
       "      <th>3</th>\n",
       "      <td>33</td>\n",
       "      <td>0</td>\n",
       "      <td>22.705</td>\n",
       "      <td>0</td>\n",
       "      <td>0</td>\n",
       "      <td>1</td>\n",
       "      <td>21984.47061</td>\n",
       "    </tr>\n",
       "    <tr>\n",
       "      <th>4</th>\n",
       "      <td>32</td>\n",
       "      <td>0</td>\n",
       "      <td>28.880</td>\n",
       "      <td>0</td>\n",
       "      <td>0</td>\n",
       "      <td>1</td>\n",
       "      <td>3866.85520</td>\n",
       "    </tr>\n",
       "  </tbody>\n",
       "</table>\n",
       "</div>"
      ],
      "text/plain": [
       "   age  sex     bmi  children  smoker  region      charges\n",
       "0   19    1  27.900         0       1       2  16884.92400\n",
       "1   18    0  33.770         1       0       0   1725.55230\n",
       "2   28    0  33.000         3       0       0   4449.46200\n",
       "3   33    0  22.705         0       0       1  21984.47061\n",
       "4   32    0  28.880         0       0       1   3866.85520"
      ]
     },
     "execution_count": 16,
     "metadata": {},
     "output_type": "execute_result"
    }
   ],
   "source": [
    "df.replace({'sex':{'male':0,'female':1}},inplace=True)\n",
    "df.replace({'smoker':{'no':0,'yes':1}},inplace=True)\n",
    "df.replace({'region':{'southeast':0,'northwest':1,'southwest':2,'northeast':3}},inplace=True)\n",
    "df.head()"
   ]
  },
  {
   "cell_type": "code",
   "execution_count": 17,
   "id": "a266ba20",
   "metadata": {},
   "outputs": [
    {
     "data": {
      "text/plain": [
       "age         0\n",
       "sex         0\n",
       "bmi         0\n",
       "children    0\n",
       "smoker      0\n",
       "region      0\n",
       "charges     0\n",
       "dtype: int64"
      ]
     },
     "execution_count": 17,
     "metadata": {},
     "output_type": "execute_result"
    }
   ],
   "source": [
    "df.isnull().sum()"
   ]
  },
  {
   "cell_type": "markdown",
   "id": "503b499d",
   "metadata": {},
   "source": [
    "# Split data input & output"
   ]
  },
  {
   "cell_type": "code",
   "execution_count": 18,
   "id": "5c4ed638",
   "metadata": {},
   "outputs": [
    {
     "name": "stdout",
     "output_type": "stream",
     "text": [
      "age         0\n",
      "sex         0\n",
      "bmi         0\n",
      "children    0\n",
      "smoker      0\n",
      "region      0\n",
      "dtype: int64\n",
      "0\n",
      "0    16884.92400\n",
      "1     1725.55230\n",
      "2     4449.46200\n",
      "3    21984.47061\n",
      "4     3866.85520\n",
      "Name: charges, dtype: float64\n"
     ]
    }
   ],
   "source": [
    "X=df.drop(['charges'],axis=1)\n",
    "Y=df['charges']\n",
    "print(X.isnull().sum())\n",
    "print(Y.isnull().sum())\n",
    "print(Y.head())"
   ]
  },
  {
   "cell_type": "markdown",
   "id": "0f262da8",
   "metadata": {},
   "source": [
    "# ML Model"
   ]
  },
  {
   "cell_type": "code",
   "execution_count": 19,
   "id": "7f1e0f01",
   "metadata": {},
   "outputs": [
    {
     "name": "stdout",
     "output_type": "stream",
     "text": [
      "      age  sex     bmi  children  smoker  region\n",
      "300    36    0  27.550         3       0       3\n",
      "1136   44    1  25.000         1       0       2\n",
      "464    19    0  25.175         0       0       1\n",
      "212    24    0  28.500         2       0       1\n",
      "11     62    1  26.290         0       1       0\n",
      "...   ...  ...     ...       ...     ...     ...\n",
      "626    36    0  28.880         3       0       3\n",
      "242    55    1  26.800         1       0       2\n",
      "590    58    1  29.000         0       0       2\n",
      "755    31    0  27.645         2       0       3\n",
      "256    56    0  33.630         0       1       1\n",
      "\n",
      "[1003 rows x 6 columns]       age  sex     bmi  children  smoker  region\n",
      "722    62    0  37.400         0       0       2\n",
      "687    40    0  41.690         0       0       0\n",
      "723    19    0  35.400         0       0       2\n",
      "1253   40    1  29.300         4       0       2\n",
      "1169   37    1  34.105         1       0       1\n",
      "...   ...  ...     ...       ...     ...     ...\n",
      "489    53    0  31.160         1       0       1\n",
      "486    54    1  21.470         3       0       1\n",
      "593    21    1  21.850         1       1       3\n",
      "106    19    1  28.400         1       0       2\n",
      "1166   57    0  40.370         0       0       0\n",
      "\n",
      "[335 rows x 6 columns]\n",
      "300      6746.74250\n",
      "1136     7623.51800\n",
      "464      1632.03625\n",
      "212      3537.70300\n",
      "11      27808.72510\n",
      "           ...     \n",
      "626      6748.59120\n",
      "242     35160.13457\n",
      "590     11842.44200\n",
      "755      5031.26955\n",
      "256     43921.18370\n",
      "Name: charges, Length: 1003, dtype: float64 722     12979.35800\n",
      "687      5438.74910\n",
      "723      1263.24900\n",
      "1253    15828.82173\n",
      "1169     6112.35295\n",
      "           ...     \n",
      "489     10461.97940\n",
      "486     12475.35130\n",
      "593     15359.10450\n",
      "106      2331.51900\n",
      "1166    10982.50130\n",
      "Name: charges, Length: 335, dtype: float64\n"
     ]
    }
   ],
   "source": [
    "x_train,x_test, y_train,y_test=train_test_split(X,Y,test_size=0.25,random_state=102)\n",
    "print(x_train,x_test)\n",
    "print(y_train,y_test)"
   ]
  },
  {
   "cell_type": "code",
   "execution_count": 20,
   "id": "3a1e1b23",
   "metadata": {},
   "outputs": [
    {
     "data": {
      "text/plain": [
       "Lasso()"
      ]
     },
     "execution_count": 20,
     "metadata": {},
     "output_type": "execute_result"
    }
   ],
   "source": [
    "#LM\n",
    "lm_model=LinearRegression()\n",
    "bays_model=BayesianRidge()\n",
    "las_model=Lasso()\n",
    "\n",
    "lm_model.fit(x_train,y_train)\n",
    "bays_model.fit(x_train,y_train)\n",
    "las_model.fit(x_train,y_train)"
   ]
  },
  {
   "cell_type": "markdown",
   "id": "8add6f72",
   "metadata": {},
   "source": [
    "# Prediction apply on Train/Test on all models"
   ]
  },
  {
   "cell_type": "code",
   "execution_count": 21,
   "id": "0816d908",
   "metadata": {},
   "outputs": [
    {
     "name": "stdout",
     "output_type": "stream",
     "text": [
      "LM Train: 0.7573843113075567\n",
      "BayesianRidge Train:  0.7573810357542312\n",
      "Lasso Train: 0.7573842270205171\n",
      "LM Test: 0.725441365547174\n",
      "BayesianRidge Test:  0.7573810357542312\n",
      "Lasso Test: 0.7573842270205171\n"
     ]
    }
   ],
   "source": [
    "lm_train_prediction=lm_model.predict(x_train)\n",
    "lm_r2_train=metrics.r2_score(y_train,lm_train_prediction)\n",
    "print('LM Train:',lm_r2_train)\n",
    "\n",
    "bays_train_prediction=bays_model.predict(x_train)\n",
    "bays_r2_train=metrics.r2_score(y_train,bays_train_prediction)\n",
    "print('BayesianRidge Train: ',bays_r2_train)\n",
    "\n",
    "las_train_prediction=las_model.predict(x_train)\n",
    "las_r2_train=metrics.r2_score(y_train,las_train_prediction)\n",
    "print('Lasso Train:',las_r2_train)\n",
    "\n",
    "\n",
    "lm_test_prediction=lm_model.predict(x_test)\n",
    "lm_r2_test=metrics.r2_score(y_test,lm_test_prediction)\n",
    "print('LM Test:',lm_r2_test)\n",
    "\n",
    "bays_test_prediction=bays_model.predict(x_test)\n",
    "bays_r2_test=metrics.r2_score(y_test,bays_test_prediction)\n",
    "print('BayesianRidge Test: ',bays_r2_train)\n",
    "\n",
    "las_test_prediction=las_model.predict(x_test)\n",
    "las_r2_test=metrics.r2_score(y_test,las_test_prediction)\n",
    "print('Lasso Test:',las_r2_train)"
   ]
  },
  {
   "cell_type": "markdown",
   "id": "22d3e186",
   "metadata": {},
   "source": [
    "# Input Data"
   ]
  },
  {
   "cell_type": "code",
   "execution_count": 22,
   "id": "2305fff8",
   "metadata": {},
   "outputs": [
    {
     "name": "stdout",
     "output_type": "stream",
     "text": [
      "      age  sex     bmi  children  smoker  region\n",
      "300    36    0  27.550         3       0       3\n",
      "1136   44    1  25.000         1       0       2\n",
      "464    19    0  25.175         0       0       1\n",
      "212    24    0  28.500         2       0       1\n",
      "11     62    1  26.290         0       1       0\n",
      "...   ...  ...     ...       ...     ...     ...\n",
      "626    36    0  28.880         3       0       3\n",
      "242    55    1  26.800         1       0       2\n",
      "590    58    1  29.000         0       0       2\n",
      "755    31    0  27.645         2       0       3\n",
      "256    56    0  33.630         0       1       1\n",
      "\n",
      "[1003 rows x 6 columns]\n"
     ]
    }
   ],
   "source": [
    "print(x_train)\n",
    "# df.replace({'sex':{'male':0,'female':1}},inplace=True)\n",
    "# df.replace({'smoker':{'no':0,'yes':1}},inplace=True)\n",
    "# df.replace({'region':{'southeast':0,'northwest':1,'southwest':2,'northeast':3}},inplace=True)\n",
    "# df.head()"
   ]
  },
  {
   "cell_type": "code",
   "execution_count": 23,
   "id": "53342668",
   "metadata": {},
   "outputs": [
    {
     "name": "stdout",
     "output_type": "stream",
     "text": [
      "Linear Prediction :  [5196.21384291]\n",
      "BayesianRidge Prediction :  [5210.23317929]\n",
      "Lasso Prediction : [5201.09189862]\n"
     ]
    }
   ],
   "source": [
    "#print(x_train)\n",
    "input_data=(32,0,28.88,0,0,1)\n",
    "input_data_np=np.asarray(input_data)\n",
    "input_data_reshape=input_data_np.reshape(1,-1)\n",
    "\n",
    "input_lm_predict=lm_model.predict(input_data_reshape)\n",
    "print('Linear Prediction : ', input_lm_predict)\n",
    "\n",
    "input_bays_predict=bays_model.predict(input_data_reshape)\n",
    "print('BayesianRidge Prediction : ', input_bays_predict)\n",
    "\n",
    "input_las_predict=las_model.predict(input_data_reshape)\n",
    "print('Lasso Prediction :', input_las_predict)"
   ]
  },
  {
   "cell_type": "code",
   "execution_count": 24,
   "id": "f07f7afb",
   "metadata": {},
   "outputs": [
    {
     "name": "stdout",
     "output_type": "stream",
     "text": [
      "   age  sex     bmi  children  smoker  region      charges  LM_predict_value  \\\n",
      "0   19    1  27.900         0       1       2  16884.92400      26501.338608   \n",
      "1   18    0  33.770         1       0       0   1725.55230       3441.938085   \n",
      "2   28    0  33.000         3       0       0   4449.46200       6414.835217   \n",
      "3   33    0  22.705         0       0       1  21984.47061       3307.947362   \n",
      "4   32    0  28.880         0       0       1   3866.85520       5196.213843   \n",
      "\n",
      "   Bayesridge_predict_value  Lasso_predict_value  \n",
      "0              26458.290593         26494.704948  \n",
      "1               3457.599827          3446.745497  \n",
      "2               6429.289763          6418.088532  \n",
      "3               3321.651053          3313.208285  \n",
      "4               5210.233179          5201.091899  \n"
     ]
    }
   ],
   "source": [
    "df_out=df\n",
    "p=df_out[['age','sex','bmi','children','smoker','region']]\n",
    "df_out['LM_predict_value']=lm_model.predict(p)\n",
    "df_out['Bayesridge_predict_value']=bays_model.predict(p)\n",
    "df_out['Lasso_predict_value']=las_model.predict(p)\n",
    "print(df_out.head(5))\n",
    "df_out.to_csv(\"D:/datasets/Py_DS/Prediction_insuracecharges.txt\",sep='|',index=False)"
   ]
  }
 ],
 "metadata": {
  "kernelspec": {
   "display_name": "Python 3",
   "language": "python",
   "name": "python3"
  },
  "language_info": {
   "codemirror_mode": {
    "name": "ipython",
    "version": 3
   },
   "file_extension": ".py",
   "mimetype": "text/x-python",
   "name": "python",
   "nbconvert_exporter": "python",
   "pygments_lexer": "ipython3",
   "version": "3.8.8"
  }
 },
 "nbformat": 4,
 "nbformat_minor": 5
}
